{
 "nbformat": 4,
 "nbformat_minor": 0,
 "metadata": {
  "colab": {
   "provenance": []
  },
  "kernelspec": {
   "name": "python3",
   "display_name": "Python 3"
  },
  "language_info": {
   "name": "python"
  }
 },
 "cells": [
  {
   "cell_type": "code",
   "execution_count": null,
   "metadata": {
    "id": "mg7VOvamOoHs",
    "pycharm": {
     "name": "#%%\n"
    }
   },
   "outputs": [],
   "source": [
    "import pandas as pd\n",
    "import numpy as np\n",
    "import matplotlib.patches as mpatches\n",
    "import matplotlib.pyplot as plt\n",
    "import pickle"
   ]
  },
  {
   "cell_type": "code",
   "source": [
    "with open('ppp_plot_isoprene_auto.pickle', 'rb') as handle:\n",
    "    ppp_plot_isoprene_auto = pickle.load(handle)\n",
    "with open('ppp_plot_isoprene_mixo.pickle', 'rb') as handle:\n",
    "    ppp_plot_isoprene_mixo = pickle.load(handle)\n",
    "with open('/ppp_plot_isobutene_auto.pickle', 'rb') as handle:\n",
    "    ppp_plot_isobutene_auto = pickle.load(handle)\n",
    "with open('ppp_plot_isobutene_mixo.pickle', 'rb') as handle:\n",
    "    ppp_plot_isobutene_mixo = pickle.load(handle)\n",
    "with open('ppp_plot_ethylene_auto.pickle', 'rb') as handle:\n",
    "    ppp_plot_ethylene_auto = pickle.load(handle)\n",
    "with open('ppp_plot_ethylene_mixo.pickle', 'rb') as handle:\n",
    "    ppp_plot_ethylene_mixo = pickle.load(handle)\n",
    "with open('ppp_plot_1_undecene_auto.pickle', 'rb') as handle:\n",
    "    ppp_plot_1_undecene_auto = pickle.load(handle)\n",
    "with open('ppp_plot_1_undecene_mixo.pickle', 'rb') as handle:\n",
    "    ppp_plot_1_undecene_mixo = pickle.load(handle)"
   ],
   "metadata": {
    "id": "qjI1-4z-OqsO",
    "pycharm": {
     "name": "#%%\n"
    }
   },
   "execution_count": null,
   "outputs": []
  },
  {
   "cell_type": "code",
   "source": [
    "#fig = plt.figure()\n",
    "#fig.suptitle(\"Production envelope\")\n",
    "\n",
    "x1 = ppp_plot_isoprene_auto[\"BIOMASS_Ec_SynAuto\"]\n",
    "y1 = ppp_plot_isoprene_auto[\"flux_maximum\"]\n",
    "x2 = ppp_plot_isoprene_mixo[\"BIOMASS_Ec_SynMixo\"]\n",
    "y2 = ppp_plot_isoprene_mixo[\"flux_maximum\"]\n",
    "\n",
    "x3 = ppp_plot_isobutene_auto[\"BIOMASS_Ec_SynAuto\"]\n",
    "y3 = ppp_plot_isobutene_auto[\"flux_maximum\"]\n",
    "x4 = ppp_plot_isobutene_mixo[\"BIOMASS_Ec_SynMixo\"]\n",
    "y5 = ppp_plot_isobutene_mixo[\"flux_maximum\"]\n",
    "\n",
    "x5 = ppp_plot_ethylene_auto[\"BIOMASS_Ec_SynAuto\"]\n",
    "y5 = ppp_plot_ethylene_auto[\"flux_maximum\"]\n",
    "x6 = ppp_plot_ethylene_mixo[\"BIOMASS_Ec_SynMixo\"]\n",
    "y6 = ppp_plot_ethylene_mixo[\"flux_maximum\"]\n",
    "\n",
    "x7 = ppp_plot_1_undecene_auto[\"BIOMASS_Ec_SynAuto\"]\n",
    "y7 = ppp_plot_1_undecene_auto[\"flux_maximum\"]\n",
    "x8 = ppp_plot_1_undecene_mixo[\"BIOMASS_Ec_SynMixo\"]\n",
    "y8 = ppp_plot_1_undecene_mixo[\"flux_maximum\"]\n",
    "\n",
    "auto_color = mpatches.Patch(color='#334E75', label=\"Auto\")\n",
    "mixo_color = mpatches.Patch(color='#E0865B', label=\"Mixo\")\n",
    "\n",
    "fig, ax = plt.subplots(nrows=2, ncols=2)\n",
    "\n",
    "ax[0, 0].plot(x1, y1, color='#334E75') #isoprene\n",
    "ax[0, 0].plot(x2, y2, color='#E0865B') #isoprene\n",
    "ax[0, 0].set_title(\"Isoprene\", fontsize = 10, pad = -14) #y = 1.0, pad = -14\n",
    "\n",
    "ax[0, 1].plot(x3, y3, color='#334E75') #isobutene\n",
    "ax[0, 1].plot(x4, y5, color='#E0865B') #isobutene\n",
    "ax[0, 1].set_title(\"Isobutene\", fontsize = 10, pad = -14)\n",
    "\n",
    "ax[1, 0].plot(x5, y5, color='#334E75') #ethylene\n",
    "ax[1, 0].plot(x6, y6, color='#E0865B') #ethylene\n",
    "ax[1, 0].set_title(\"Ethylene\", fontsize = 10, pad = -14)\n",
    "\n",
    "ax[1, 1].plot(x7, y7, color='#334E75') #1_undecene\n",
    "ax[1, 1].plot(x8, y8, color='#E0865B') #1_undecene\n",
    "ax[1, 1].set_title(\"1-undecene\", fontsize = 10, pad = -14)\n",
    "\n",
    "for ax in ax.flat:\n",
    "    ax.set_xlabel('Growth rate Rate (h⁻¹)', fontsize = 8)\n",
    "    ax.set_ylabel('Production rate (mmol/gDW/h)', fontsize = 8)\n",
    "    ax.legend(fontsize = 8, handles=[auto_color, mixo_color])\n",
    "\n",
    "plt.subplots_adjust(top=0.92, bottom=0.08, left=0.10, right=0.95, hspace=0.4,\n",
    "                    wspace=0.35)\n",
    "\n",
    "plt.savefig(\"PPP.svg\", bbox_inches=\"tight\", dpi=300)\n",
    "plt.show()\n",
    "plt.close()"
   ],
   "metadata": {
    "id": "zCpBPKX1Oqpl",
    "pycharm": {
     "name": "#%%\n"
    }
   },
   "execution_count": null,
   "outputs": []
  }
 ]
}